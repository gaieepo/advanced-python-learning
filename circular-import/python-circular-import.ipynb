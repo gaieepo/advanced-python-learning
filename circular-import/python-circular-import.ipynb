{
 "cells": [
  {
   "cell_type": "markdown",
   "metadata": {},
   "source": [
    "# Python Circular Import Problem\n",
    "1. PyData Top-down Left-right talk\n",
    "2. Conventional Django and Flask package separation\n",
    "3. Create big libraries"
   ]
  },
  {
   "cell_type": "markdown",
   "metadata": {},
   "source": [
    "Assume we have two python files `main.py` and `models.py`, which is very common in Flask and Django projects which involve `db` and data models."
   ]
  },
  {
   "cell_type": "code",
   "execution_count": null,
   "metadata": {
    "collapsed": true
   },
   "outputs": [],
   "source": [
    "# models.py\n",
    "from main import Animal\n",
    "\n",
    "class Cat(Animal):\n",
    "    pass\n",
    "\n",
    "class Dog(Animal):\n",
    "    pass"
   ]
  },
  {
   "cell_type": "code",
   "execution_count": null,
   "metadata": {
    "collapsed": true
   },
   "outputs": [],
   "source": [
    "# main.py\n",
    "from models import Cat, Dog\n",
    "\n",
    "class Animal:\n",
    "    pass\n",
    "\n",
    "if __name__ == \"__main__\":\n",
    "    gai = Cat()\n",
    "    print(gai)"
   ]
  },
  {
   "cell_type": "markdown",
   "metadata": {},
   "source": [
    "If we execute `main.py`, the error message will be:"
   ]
  },
  {
   "cell_type": "code",
   "execution_count": 4,
   "metadata": {},
   "outputs": [
    {
     "name": "stdout",
     "output_type": "stream",
     "text": [
      "Traceback (most recent call last):\r\n",
      "  File \"main.py\", line 1, in <module>\r\n",
      "    from models import Cat, Dog\r\n",
      "  File \"/Users/gaieepo/study/advanced-python-learning/circular-import/models.py\", line 1, in <module>\r\n",
      "    from main import Animal\r\n",
      "  File \"/Users/gaieepo/study/advanced-python-learning/circular-import/main.py\", line 1, in <module>\r\n",
      "    from models import Cat, Dog\r\n",
      "ImportError: cannot import name 'Cat'\r\n"
     ]
    }
   ],
   "source": [
    "!python main.py"
   ]
  },
  {
   "cell_type": "markdown",
   "metadata": {},
   "source": [
    "Notice the message here is saying \"cannot import 'Cat'\", why the error stops at Cat?\n",
    "\n",
    "To see the difference, we change the reference of main.py from `main` to `__main__`."
   ]
  },
  {
   "cell_type": "code",
   "execution_count": null,
   "metadata": {
    "collapsed": true
   },
   "outputs": [],
   "source": [
    "# models2.py\n",
    "from __main__ import Animal\n",
    "\n",
    "class Cat(Animal):\n",
    "    pass\n",
    "\n",
    "class Dog(Animal):\n",
    "    pass"
   ]
  },
  {
   "cell_type": "code",
   "execution_count": 5,
   "metadata": {},
   "outputs": [
    {
     "name": "stdout",
     "output_type": "stream",
     "text": [
      "Traceback (most recent call last):\r\n",
      "  File \"main2.py\", line 1, in <module>\r\n",
      "    from models2 import Cat, Dog\r\n",
      "  File \"/Users/gaieepo/study/advanced-python-learning/circular-import/models2.py\", line 1, in <module>\r\n",
      "    from __main__ import Animal\r\n",
      "ImportError: cannot import name 'Animal'\r\n"
     ]
    }
   ],
   "source": [
    "!python main2.py"
   ]
  },
  {
   "cell_type": "markdown",
   "metadata": {},
   "source": [
    "As Python refer the main.py as `__main__`, we are able to loop back main file to seek Animal class. However, before Animal is executed, main file points back to models again - this is circular import problem.\n",
    "\n",
    "To solve this specific problem, we need to change the main2 statement sequence, i.e. put declaration of class Animal before the import of Cat and Dog."
   ]
  },
  {
   "cell_type": "code",
   "execution_count": null,
   "metadata": {
    "collapsed": true
   },
   "outputs": [],
   "source": [
    "# main3.py\n",
    "class Animal:\n",
    "    pass\n",
    "\n",
    "from models import Cat, Dog\n",
    "\n",
    "if __name__ == \"__main__\":\n",
    "    gai = Cat()\n",
    "    print(gai)"
   ]
  },
  {
   "cell_type": "code",
   "execution_count": 6,
   "metadata": {},
   "outputs": [
    {
     "name": "stdout",
     "output_type": "stream",
     "text": [
      "<models2.Cat object at 0x10a4e0278>\r\n"
     ]
    }
   ],
   "source": [
    "!python main3.py"
   ]
  },
  {
   "cell_type": "markdown",
   "metadata": {},
   "source": [
    "Everything works well. But this approach causes a messy import problem which is against common Python coding styles.\n",
    "\n",
    "Here, the most easiest solution is to pack sub module files into an individual package and add an additional `__init__.py` file."
   ]
  },
  {
   "cell_type": "code",
   "execution_count": null,
   "metadata": {
    "collapsed": true
   },
   "outputs": [],
   "source": [
    "# main4.py\n",
    "from submodule import Cat\n",
    "\n",
    "if __name__ == \"__main__\":\n",
    "    gai = Cat()\n",
    "    print(gai)"
   ]
  },
  {
   "cell_type": "code",
   "execution_count": null,
   "metadata": {
    "collapsed": true
   },
   "outputs": [],
   "source": [
    "#submodule/__init__.py\n",
    "class Animal:\n",
    "    pass\n",
    "\n",
    "from submodule.models import Cat, Dog"
   ]
  },
  {
   "cell_type": "code",
   "execution_count": null,
   "metadata": {
    "collapsed": true
   },
   "outputs": [],
   "source": [
    "#submodule/models.py\n",
    "from submodule import Animal\n",
    "\n",
    "class Cat(Animal):\n",
    "    pass\n",
    "\n",
    "class Dog(Animal):\n",
    "    pass"
   ]
  },
  {
   "cell_type": "code",
   "execution_count": 8,
   "metadata": {},
   "outputs": [
    {
     "name": "stdout",
     "output_type": "stream",
     "text": [
      "<submodule.models.Cat object at 0x10fc221d0>\r\n"
     ]
    }
   ],
   "source": [
    "!python main4.py"
   ]
  }
 ],
 "metadata": {
  "kernelspec": {
   "display_name": "Python 3",
   "language": "python",
   "name": "python3"
  },
  "language_info": {
   "codemirror_mode": {
    "name": "ipython",
    "version": 3
   },
   "file_extension": ".py",
   "mimetype": "text/x-python",
   "name": "python",
   "nbconvert_exporter": "python",
   "pygments_lexer": "ipython3",
   "version": "3.6.1"
  }
 },
 "nbformat": 4,
 "nbformat_minor": 2
}
